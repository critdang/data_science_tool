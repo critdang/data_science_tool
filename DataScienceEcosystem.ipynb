{
  "nbformat": 4,
  "nbformat_minor": 0,
  "metadata": {
    "colab": {
      "provenance": []
    },
    "kernelspec": {
      "name": "python3",
      "display_name": "Python 3"
    },
    "language_info": {
      "name": "python"
    }
  },
  "cells": [
    {
      "cell_type": "markdown",
      "source": [
        "Data Science Tools and Ecosystem"
      ],
      "metadata": {
        "id": "ii2BvYC-9UJK"
      }
    },
    {
      "cell_type": "code",
      "source": [],
      "metadata": {
        "id": "DJBm4TKX9fdn"
      },
      "execution_count": null,
      "outputs": []
    },
    {
      "cell_type": "markdown",
      "source": [
        "In this notebook, Data Science Tools and Ecosystem are summarized."
      ],
      "metadata": {
        "id": "vK5w3UKu9sYk"
      }
    },
    {
      "cell_type": "markdown",
      "source": [
        "Some of the popular languages that Data Scientists use are:\n",
        "\n",
        "\n",
        "1.   R\n",
        "\n",
        "1.   Python\n",
        "2.   Java\n",
        "\n",
        "\n"
      ],
      "metadata": {
        "id": "JSgKEI7k-GlP"
      }
    },
    {
      "cell_type": "markdown",
      "source": [
        "Some of the commonly used libraries used by Data Scientists include:\n",
        "\n",
        "\n",
        "1.   Mathplot\n",
        "\n",
        "1.   Array\n",
        "2.   Skitplot\n",
        "\n",
        "\n"
      ],
      "metadata": {
        "id": "ZQIEgbsP-UYI"
      }
    },
    {
      "cell_type": "markdown",
      "source": [
        "Data Science Tools\n",
        "\n",
        "\n",
        "*   Staging\n",
        "\n",
        "*   Production\n",
        "*   Development\n",
        "\n",
        "\n"
      ],
      "metadata": {
        "id": "dBrADyjw-wWA"
      }
    },
    {
      "cell_type": "markdown",
      "source": [
        "<h3>Below are a few examples of evaluating arithmetic expressions in Python</h3>"
      ],
      "metadata": {
        "id": "bS9jxCDc_QEc"
      }
    },
    {
      "cell_type": "code",
      "source": [
        "output = (3*4)+5\n",
        "# This a simple arithmetic expression to mutiply then add integers\n",
        "print(\"output is\" , output)"
      ],
      "metadata": {
        "colab": {
          "base_uri": "https://localhost:8080/"
        },
        "id": "raHDShcn_aKW",
        "outputId": "88627d2f-532c-4875-c843-b9583155f437"
      },
      "execution_count": 4,
      "outputs": [
        {
          "output_type": "stream",
          "name": "stdout",
          "text": [
            "output is 17\n"
          ]
        }
      ]
    },
    {
      "cell_type": "code",
      "source": [
        "output = 200/60\n",
        "#This will convert 200 minutes to hours by diving by 60\n",
        "print(\"output is\" , output , \"hours\")"
      ],
      "metadata": {
        "colab": {
          "base_uri": "https://localhost:8080/"
        },
        "id": "jRq89qKW_zzD",
        "outputId": "5eceb79c-60fd-4c20-acd2-b951d27648ad"
      },
      "execution_count": 6,
      "outputs": [
        {
          "output_type": "stream",
          "name": "stdout",
          "text": [
            "output is 3.3333333333333335 hours\n"
          ]
        }
      ]
    },
    {
      "cell_type": "markdown",
      "source": [
        "**Objectives:**\n",
        "\n",
        "*   List popular languages for Data Science\n",
        "\n",
        "*   Github\n",
        "*   Rstudio\n",
        "\n",
        "\n"
      ],
      "metadata": {
        "id": "E_WKoig9AHNQ"
      }
    },
    {
      "cell_type": "markdown",
      "source": [
        "<h2>Huy Dang</h2>"
      ],
      "metadata": {
        "id": "fRYskr5gAW9s"
      }
    }
  ]
}